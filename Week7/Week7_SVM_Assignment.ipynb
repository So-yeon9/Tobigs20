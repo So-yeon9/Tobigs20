{
 "cells": [
  {
   "cell_type": "markdown",
   "id": "9ad88f3e",
   "metadata": {},
   "source": [
    "# Multiclass SVM 구현"
   ]
  },
  {
   "cell_type": "code",
   "execution_count": 3,
   "id": "1ee53277",
   "metadata": {},
   "outputs": [
    {
     "name": "stdout",
     "output_type": "stream",
     "text": [
      "0         setosa\n",
      "1         setosa\n",
      "2         setosa\n",
      "3         setosa\n",
      "4         setosa\n",
      "         ...    \n",
      "145    virginica\n",
      "146    virginica\n",
      "147    virginica\n",
      "148    virginica\n",
      "149    virginica\n",
      "Name: species, Length: 150, dtype: object\n"
     ]
    }
   ],
   "source": [
    "import numpy as np\n",
    "import pandas as pd\n",
    "import matplotlib.pyplot as plt\n",
    "import seaborn as sns\n",
    "from sklearn.svm import SVC\n",
    "from sklearn.model_selection import train_test_split, GridSearchCV, StratifiedKFold, KFold\n",
    "from sklearn.pipeline import Pipeline\n",
    "from sklearn.preprocessing import StandardScaler\n",
    "from sklearn.metrics import accuracy_score\n",
    "\n",
    "#IRIS 데이터 로드\n",
    "iris =  sns.load_dataset('iris') \n",
    "X= iris.iloc[:,:4] #학습할데이터\n",
    "y = iris.iloc[:,-1] #타겟\n",
    "print(y)"
   ]
  },
  {
   "cell_type": "code",
   "execution_count": 4,
   "id": "57c67bc8",
   "metadata": {},
   "outputs": [],
   "source": [
    "X_train, X_test, y_train, y_test = train_test_split(X, y, test_size=0.2, random_state=48)"
   ]
  },
  {
   "cell_type": "code",
   "execution_count": 5,
   "id": "88a4203d",
   "metadata": {},
   "outputs": [],
   "source": [
    "def standardization(train, test):\n",
    "    scaler = StandardScaler()\n",
    "#     train = pd.DataFrame(scaler.fit_transform(train), index=train.index)\n",
    "#     test = pd.DataFrame(scaler.transform(test), index=test.index)\n",
    "    train = scaler.fit_transform(train)\n",
    "    test = scaler.transform(test)\n",
    "    return train, test\n",
    "\n",
    "X_train, X_test = standardization(X_train, X_test)"
   ]
  },
  {
   "cell_type": "code",
   "execution_count": 6,
   "id": "403590f5",
   "metadata": {
    "scrolled": false
   },
   "outputs": [
    {
     "data": {
      "text/plain": [
       "array([[ 0.78522493,  0.32015325,  0.77221097,  1.04726529],\n",
       "       [-0.26563371, -1.29989934,  0.0982814 , -0.11996537],\n",
       "       [ 0.43493872,  0.78302542,  0.94069336,  1.43634218],\n",
       "       [-0.84944407,  0.78302542, -1.24957775, -1.28719604],\n",
       "       [-0.38239578, -1.7627715 ,  0.15444219,  0.13941922],\n",
       "       [ 0.55170079, -0.374155  ,  1.05301496,  0.7878807 ],\n",
       "       [ 0.31817664, -0.14271892,  0.65988937,  0.7878807 ],\n",
       "       [ 0.20141457, -0.374155  ,  0.43524618,  0.39880381],\n",
       "       [-1.66677857, -0.14271892, -1.36189934, -1.28719604],\n",
       "       [-0.14887164, -0.60559109,  0.21060299,  0.13941922],\n",
       "       [-0.14887164, -1.06846325, -0.12636179, -0.24965767],\n",
       "       [ 0.31817664, -0.60559109,  0.15444219,  0.13941922],\n",
       "       [ 0.66846286, -0.83702717,  0.88453256,  0.91757299],\n",
       "       [ 0.0846525 , -0.14271892,  0.77221097,  0.7878807 ],\n",
       "       [-0.49915786, -0.14271892,  0.43524618,  0.39880381],\n",
       "       [-0.26563371, -0.60559109,  0.65988937,  1.04726529],\n",
       "       [ 2.18636979,  1.70876975,  1.67078373,  1.30664988],\n",
       "       [-0.49915786,  1.94020584, -1.13725615, -1.02781144],\n",
       "       [-0.96620614,  1.0144615 , -1.36189934, -1.15750374],\n",
       "       [ 1.60255943,  0.32015325,  1.27765815,  0.7878807 ],\n",
       "       [-0.84944407,  1.70876975, -1.02493456, -1.02781144],\n",
       "       [ 0.901987  , -0.14271892,  0.37908538,  0.26911151],\n",
       "       [-1.19973028,  0.78302542, -1.02493456, -1.28719604],\n",
       "       [-0.61591993,  1.47733367, -1.24957775, -1.28719604],\n",
       "       [-0.49915786,  1.47733367, -1.24957775, -1.28719604],\n",
       "       [-0.03210957, -0.83702717,  0.77221097,  0.91757299],\n",
       "       [-1.31649236,  0.32015325, -1.19341695, -1.28719604],\n",
       "       [ 1.25227322,  0.08871717,  0.94069336,  1.17695758],\n",
       "       [-1.08296821,  0.08871717, -1.24957775, -1.41688833],\n",
       "       [-1.08296821, -1.29989934,  0.43524618,  0.6581884 ],\n",
       "       [ 0.43493872, -0.374155  ,  0.32292459,  0.13941922],\n",
       "       [ 1.60255943,  1.24589758,  1.33381894,  1.69572677],\n",
       "       [ 0.31817664, -0.374155  ,  0.54756778,  0.26911151],\n",
       "       [ 1.83608357, -0.60559109,  1.33381894,  0.91757299],\n",
       "       [-0.03210957, -0.83702717,  0.0982814 ,  0.00972692],\n",
       "       [ 0.20141457, -1.99420759,  0.71605017,  0.39880381],\n",
       "       [ 1.01874907,  0.08871717,  1.05301496,  1.56603447],\n",
       "       [-0.84944407,  1.0144615 , -1.30573855, -1.15750374],\n",
       "       [-0.14887164, -0.14271892,  0.26676379,  0.00972692],\n",
       "       [-0.38239578, -1.53133542,  0.0421206 , -0.11996537],\n",
       "       [ 0.55170079, -1.29989934,  0.71605017,  0.91757299],\n",
       "       [ 1.48579736, -0.14271892,  1.22149735,  1.17695758],\n",
       "       [-0.38239578, -1.06846325,  0.37908538,  0.00972692],\n",
       "       [-0.96620614, -1.7627715 , -0.23868339, -0.24965767],\n",
       "       [ 1.25227322,  0.08871717,  0.77221097,  1.43634218],\n",
       "       [ 0.66846286, -0.60559109,  1.05301496,  1.17695758],\n",
       "       [ 0.43493872, -1.99420759,  0.43524618,  0.39880381],\n",
       "       [-0.14887164, -0.60559109,  0.43524618,  0.13941922],\n",
       "       [-0.732682  , -0.83702717,  0.0982814 ,  0.26911151],\n",
       "       [ 2.06960772, -0.14271892,  1.61462293,  1.17695758],\n",
       "       [ 1.13551115, -0.60559109,  0.60372857,  0.26911151],\n",
       "       [-0.84944407, -1.29989934, -0.40716578, -0.11996537],\n",
       "       [-0.14887164, -1.29989934,  0.71605017,  1.04726529],\n",
       "       [ 0.66846286, -0.374155  ,  0.32292459,  0.13941922],\n",
       "       [ 1.01874907,  0.08871717,  0.37908538,  0.26911151],\n",
       "       [-0.26563371, -0.83702717,  0.26676379,  0.13941922],\n",
       "       [ 1.25227322,  0.08871717,  0.65988937,  0.39880381],\n",
       "       [-0.84944407,  0.55158933, -1.13725615, -0.89811915],\n",
       "       [-1.08296821, -0.14271892, -1.30573855, -1.28719604],\n",
       "       [ 0.20141457, -0.83702717,  0.77221097,  0.52849611],\n",
       "       [-1.08296821, -1.53133542, -0.23868339, -0.24965767],\n",
       "       [-0.03210957,  2.17164192, -1.41806014, -1.28719604],\n",
       "       [-0.96620614,  1.0144615 , -1.19341695, -0.76842685],\n",
       "       [ 0.55170079, -0.83702717,  0.65988937,  0.7878807 ],\n",
       "       [ 1.7193215 , -0.374155  ,  1.44614054,  0.7878807 ],\n",
       "       [-0.732682  ,  2.403078  , -1.24957775, -1.41688833],\n",
       "       [-0.14887164,  3.09738625, -1.24957775, -1.02781144],\n",
       "       [ 1.13551115, -0.14271892,  0.99685416,  1.17695758],\n",
       "       [-1.43325443,  0.08871717, -1.24957775, -1.28719604],\n",
       "       [-0.03210957, -0.83702717,  0.21060299, -0.24965767],\n",
       "       [ 1.01874907, -0.14271892,  0.82837177,  1.43634218],\n",
       "       [ 1.36903529,  0.32015325,  0.54756778,  0.26911151],\n",
       "       [-0.96620614,  0.32015325, -1.41806014, -1.28719604],\n",
       "       [-0.96620614,  0.78302542, -1.24957775, -1.28719604],\n",
       "       [ 0.55170079,  0.55158933,  1.27765815,  1.69572677],\n",
       "       [ 2.18636979, -0.60559109,  1.67078373,  1.04726529],\n",
       "       [ 0.0846525 , -0.14271892,  0.26676379,  0.39880381],\n",
       "       [-1.31649236,  0.32015325, -1.36189934, -1.28719604],\n",
       "       [ 0.66846286,  0.32015325,  0.88453256,  1.43634218],\n",
       "       [-0.96620614,  0.78302542, -1.19341695, -1.02781144],\n",
       "       [ 0.20141457,  0.78302542,  0.43524618,  0.52849611],\n",
       "       [-1.19973028, -0.14271892, -1.30573855, -1.41688833],\n",
       "       [ 1.01874907,  0.55158933,  1.10917575,  1.17695758],\n",
       "       [ 0.78522493, -0.60559109,  0.49140698,  0.39880381],\n",
       "       [-1.43325443,  1.24589758, -1.53038174, -1.28719604],\n",
       "       [-0.03210957, -0.60559109,  0.77221097,  1.56603447],\n",
       "       [-1.78354064, -0.14271892, -1.47422094, -1.41688833],\n",
       "       [ 1.01874907, -1.29989934,  1.16533655,  0.7878807 ],\n",
       "       [-1.08296821,  1.24589758, -1.30573855, -1.41688833],\n",
       "       [-0.49915786,  1.94020584, -1.36189934, -1.02781144],\n",
       "       [-1.43325443,  0.32015325, -1.30573855, -1.28719604],\n",
       "       [-0.03210957, -0.83702717,  0.77221097,  0.91757299],\n",
       "       [ 0.55170079, -0.60559109,  0.77221097,  0.39880381],\n",
       "       [-0.96620614,  0.55158933, -1.30573855, -1.28719604],\n",
       "       [ 2.41989393,  1.70876975,  1.50230134,  1.04726529],\n",
       "       [-1.66677857,  0.32015325, -1.36189934, -1.28719604],\n",
       "       [-1.19973028, -0.14271892, -1.30573855, -1.15750374],\n",
       "       [ 1.01874907,  0.55158933,  1.10917575,  1.69572677],\n",
       "       [-0.96620614, -2.45707976, -0.12636179, -0.24965767],\n",
       "       [-0.732682  ,  1.0144615 , -1.24957775, -1.28719604],\n",
       "       [ 2.18636979, -1.06846325,  1.78310533,  1.43634218],\n",
       "       [ 1.13551115,  0.32015325,  1.22149735,  1.43634218],\n",
       "       [-0.96620614, -0.14271892, -1.19341695, -1.28719604],\n",
       "       [-0.84944407,  1.47733367, -1.24957775, -1.02781144],\n",
       "       [ 2.18636979, -0.14271892,  1.33381894,  1.43634218],\n",
       "       [-0.14887164,  1.70876975, -1.13725615, -1.15750374],\n",
       "       [-0.26563371, -0.14271892,  0.43524618,  0.39880381],\n",
       "       [-1.19973028,  0.08871717, -1.19341695, -1.28719604],\n",
       "       [ 0.78522493, -0.14271892,  1.16533655,  1.30664988],\n",
       "       [ 0.901987  , -0.374155  ,  0.49140698,  0.13941922],\n",
       "       [-0.732682  ,  0.78302542, -1.30573855, -1.28719604],\n",
       "       [-0.84944407,  1.70876975, -1.19341695, -1.28719604],\n",
       "       [-1.43325443,  0.78302542, -1.30573855, -1.15750374],\n",
       "       [-0.03210957, -1.06846325,  0.15444219,  0.00972692],\n",
       "       [-1.08296821,  0.08871717, -1.24957775, -1.28719604],\n",
       "       [-0.26563371, -0.374155  , -0.070201  ,  0.13941922],\n",
       "       [ 0.31817664, -0.14271892,  0.49140698,  0.26911151],\n",
       "       [-0.38239578, -1.53133542, -0.0140402 , -0.24965767],\n",
       "       [ 0.66846286,  0.32015325,  0.43524618,  0.39880381],\n",
       "       [-0.84944407,  1.0144615 , -1.30573855, -1.28719604]])"
      ]
     },
     "execution_count": 6,
     "metadata": {},
     "output_type": "execute_result"
    }
   ],
   "source": [
    "X_train"
   ]
  },
  {
   "cell_type": "code",
   "execution_count": 7,
   "id": "9861d8a6",
   "metadata": {
    "scrolled": false
   },
   "outputs": [
    {
     "data": {
      "text/plain": [
       "array([[-0.14887164, -0.374155  ,  0.26676379,  0.13941922],\n",
       "       [ 0.31817664, -0.60559109,  0.54756778,  0.00972692],\n",
       "       [ 0.31817664, -1.06846325,  1.05301496,  0.26911151],\n",
       "       [-1.5500165 , -1.7627715 , -1.36189934, -1.15750374],\n",
       "       [ 0.0846525 ,  0.32015325,  0.60372857,  0.7878807 ],\n",
       "       [ 0.78522493, -0.14271892,  0.99685416,  0.7878807 ],\n",
       "       [-0.84944407,  1.70876975, -1.24957775, -1.15750374],\n",
       "       [ 0.20141457, -0.14271892,  0.60372857,  0.7878807 ],\n",
       "       [-0.38239578,  2.63451409, -1.30573855, -1.28719604],\n",
       "       [-0.38239578, -1.29989934,  0.15444219,  0.13941922],\n",
       "       [ 0.66846286,  0.08871717,  0.99685416,  0.7878807 ],\n",
       "       [-0.38239578,  1.0144615 , -1.36189934, -1.28719604],\n",
       "       [-0.49915786,  0.78302542, -1.13725615, -1.28719604],\n",
       "       [ 0.43493872, -0.60559109,  0.60372857,  0.7878807 ],\n",
       "       [ 0.55170079, -1.7627715 ,  0.37908538,  0.13941922],\n",
       "       [ 0.55170079,  0.55158933,  0.54756778,  0.52849611],\n",
       "       [-1.19973028,  0.78302542, -1.19341695, -1.28719604],\n",
       "       [ 0.20141457, -1.99420759,  0.15444219, -0.24965767],\n",
       "       [ 0.55170079, -1.29989934,  0.65988937,  0.39880381],\n",
       "       [ 1.25227322,  0.32015325,  1.10917575,  1.43634218],\n",
       "       [-1.66677857, -0.374155  , -1.30573855, -1.28719604],\n",
       "       [ 0.78522493, -0.14271892,  0.82837177,  1.04726529],\n",
       "       [ 1.01874907, -0.14271892,  0.71605017,  0.6581884 ],\n",
       "       [ 1.01874907,  0.08871717,  0.54756778,  0.39880381],\n",
       "       [ 1.60255943, -0.14271892,  1.16533655,  0.52849611],\n",
       "       [-0.96620614,  1.24589758, -1.30573855, -1.28719604],\n",
       "       [-0.49915786,  0.78302542, -1.24957775, -1.02781144],\n",
       "       [ 0.55170079,  0.78302542,  1.05301496,  1.56603447],\n",
       "       [ 0.66846286, -0.60559109,  1.05301496,  1.30664988],\n",
       "       [-0.26563371, -0.14271892,  0.21060299,  0.13941922]])"
      ]
     },
     "execution_count": 7,
     "metadata": {},
     "output_type": "execute_result"
    }
   ],
   "source": [
    "X_test"
   ]
  },
  {
   "cell_type": "markdown",
   "id": "f53c7ee9",
   "metadata": {},
   "source": [
    "### One-Against-Rest"
   ]
  },
  {
   "cell_type": "code",
   "execution_count": 21,
   "id": "0fc3b220",
   "metadata": {},
   "outputs": [],
   "source": [
    "class OneAgainstRestSVM:\n",
    "    def __init__(self, C=1.0, kernel='rbf', gamma='scale'):\n",
    "        self.svms = []\n",
    "        self.y_pred = []\n",
    "        self.num_classes = 0\n",
    "        self.y_encoded = None\n",
    "        self.C = C\n",
    "        self.kernel = kernel\n",
    "        self.gamma = gamma\n",
    "        \n",
    "    '''\n",
    "    get_params, set_params, __sklearn_clone__ 메소드는 GridSearchCV 사용 등 scikit-learn 과의 호환성을 얻기 위함\n",
    "    Reference) https://scikit-learn.org/stable/developers/develop.html#rolling-your-own-estimator'''\n",
    "    \n",
    "    def get_params(self, deep=True):\n",
    "        return {\"C\": self.C, \"kernel\": self.kernel, \"gamma\": self.gamma}\n",
    "\n",
    "    def set_params(self, **parameters):\n",
    "        for parameter, value in parameters.items():\n",
    "            setattr(self, parameter, value)\n",
    "        return self\n",
    "    \n",
    "    def __sklearn_clone__(self):\n",
    "        return self\n",
    "    \n",
    "    def fit(self, X_train, y_train):\n",
    "        self.y_encoded = pd.get_dummies(y_train)    # one-hot encoding\n",
    "        self.num_classes = self.y_encoded.shape[1]\n",
    "        \n",
    "        for i in range(self.num_classes):\n",
    "            model = SVC(C=self.C, kernel=self.kernel, gamma=self.gamma)\n",
    "            model.fit(X_train, self.y_encoded.iloc[:,i])\n",
    "            self.svms.append(model)\n",
    "\n",
    "            \n",
    "    # decision function으로 각 classifier의 결과를 비교해 최종 예측\n",
    "    def predict(self, X_test):\n",
    "        for i in range(X_test.shape[0]):\n",
    "            self.y_pred.append(np.argmax([self.svms[label].decision_function(X_test)[i] for label in range(self.num_classes)]))\n",
    "        \n",
    "        # test를 진행하기 위해 0,1,2로 되어있던 데이터를 다시 문자 label로 변환\n",
    "        label_dict = dict()\n",
    "        for i in range(self.num_classes):\n",
    "            label_dict[i] = self.y_encoded.columns[i]\n",
    "        self.y_pred = pd.DataFrame(self.y_pred).replace(label_dict)  # iris 데이터의 경우 : label_dict = {0:'setosa', 1:'versicolor', 2:'virginica'}\n",
    "        return self.y_pred"
   ]
  },
  {
   "cell_type": "markdown",
   "id": "38f1b743",
   "metadata": {},
   "source": [
    "### GridSearchCV"
   ]
  },
  {
   "cell_type": "markdown",
   "id": "9ce5f4b5",
   "metadata": {},
   "source": [
    "#### Linear SVM"
   ]
  },
  {
   "cell_type": "code",
   "execution_count": 20,
   "id": "f40f48f6",
   "metadata": {},
   "outputs": [
    {
     "data": {
      "text/html": [
       "<style>#sk-container-id-5 {color: black;background-color: white;}#sk-container-id-5 pre{padding: 0;}#sk-container-id-5 div.sk-toggleable {background-color: white;}#sk-container-id-5 label.sk-toggleable__label {cursor: pointer;display: block;width: 100%;margin-bottom: 0;padding: 0.3em;box-sizing: border-box;text-align: center;}#sk-container-id-5 label.sk-toggleable__label-arrow:before {content: \"▸\";float: left;margin-right: 0.25em;color: #696969;}#sk-container-id-5 label.sk-toggleable__label-arrow:hover:before {color: black;}#sk-container-id-5 div.sk-estimator:hover label.sk-toggleable__label-arrow:before {color: black;}#sk-container-id-5 div.sk-toggleable__content {max-height: 0;max-width: 0;overflow: hidden;text-align: left;background-color: #f0f8ff;}#sk-container-id-5 div.sk-toggleable__content pre {margin: 0.2em;color: black;border-radius: 0.25em;background-color: #f0f8ff;}#sk-container-id-5 input.sk-toggleable__control:checked~div.sk-toggleable__content {max-height: 200px;max-width: 100%;overflow: auto;}#sk-container-id-5 input.sk-toggleable__control:checked~label.sk-toggleable__label-arrow:before {content: \"▾\";}#sk-container-id-5 div.sk-estimator input.sk-toggleable__control:checked~label.sk-toggleable__label {background-color: #d4ebff;}#sk-container-id-5 div.sk-label input.sk-toggleable__control:checked~label.sk-toggleable__label {background-color: #d4ebff;}#sk-container-id-5 input.sk-hidden--visually {border: 0;clip: rect(1px 1px 1px 1px);clip: rect(1px, 1px, 1px, 1px);height: 1px;margin: -1px;overflow: hidden;padding: 0;position: absolute;width: 1px;}#sk-container-id-5 div.sk-estimator {font-family: monospace;background-color: #f0f8ff;border: 1px dotted black;border-radius: 0.25em;box-sizing: border-box;margin-bottom: 0.5em;}#sk-container-id-5 div.sk-estimator:hover {background-color: #d4ebff;}#sk-container-id-5 div.sk-parallel-item::after {content: \"\";width: 100%;border-bottom: 1px solid gray;flex-grow: 1;}#sk-container-id-5 div.sk-label:hover label.sk-toggleable__label {background-color: #d4ebff;}#sk-container-id-5 div.sk-serial::before {content: \"\";position: absolute;border-left: 1px solid gray;box-sizing: border-box;top: 0;bottom: 0;left: 50%;z-index: 0;}#sk-container-id-5 div.sk-serial {display: flex;flex-direction: column;align-items: center;background-color: white;padding-right: 0.2em;padding-left: 0.2em;position: relative;}#sk-container-id-5 div.sk-item {position: relative;z-index: 1;}#sk-container-id-5 div.sk-parallel {display: flex;align-items: stretch;justify-content: center;background-color: white;position: relative;}#sk-container-id-5 div.sk-item::before, #sk-container-id-5 div.sk-parallel-item::before {content: \"\";position: absolute;border-left: 1px solid gray;box-sizing: border-box;top: 0;bottom: 0;left: 50%;z-index: -1;}#sk-container-id-5 div.sk-parallel-item {display: flex;flex-direction: column;z-index: 1;position: relative;background-color: white;}#sk-container-id-5 div.sk-parallel-item:first-child::after {align-self: flex-end;width: 50%;}#sk-container-id-5 div.sk-parallel-item:last-child::after {align-self: flex-start;width: 50%;}#sk-container-id-5 div.sk-parallel-item:only-child::after {width: 0;}#sk-container-id-5 div.sk-dashed-wrapped {border: 1px dashed gray;margin: 0 0.4em 0.5em 0.4em;box-sizing: border-box;padding-bottom: 0.4em;background-color: white;}#sk-container-id-5 div.sk-label label {font-family: monospace;font-weight: bold;display: inline-block;line-height: 1.2em;}#sk-container-id-5 div.sk-label-container {text-align: center;}#sk-container-id-5 div.sk-container {/* jupyter's `normalize.less` sets `[hidden] { display: none; }` but bootstrap.min.css set `[hidden] { display: none !important; }` so we also need the `!important` here to be able to override the default hidden behavior on the sphinx rendered scikit-learn.org. See: https://github.com/scikit-learn/scikit-learn/issues/21755 */display: inline-block !important;position: relative;}#sk-container-id-5 div.sk-text-repr-fallback {display: none;}</style><div id=\"sk-container-id-5\" class=\"sk-top-container\"><div class=\"sk-text-repr-fallback\"><pre>GridSearchCV(cv=StratifiedKFold(n_splits=10, random_state=None, shuffle=False),\n",
       "             estimator=&lt;__main__.OneAgainstRestSVM object at 0x00000129DF014890&gt;,\n",
       "             n_jobs=-1,\n",
       "             param_grid={&#x27;C&#x27;: [0.03125, 0.0625, 0.125, 0.25, 0.5, 1, 2, 4, 8,\n",
       "                               16, 32, 64, 128, 256, 512, 1024, 2048, 4096,\n",
       "                               8192, 16384, 32768],\n",
       "                         &#x27;kernel&#x27;: [&#x27;linear&#x27;]},\n",
       "             scoring=&#x27;accuracy&#x27;)</pre><b>In a Jupyter environment, please rerun this cell to show the HTML representation or trust the notebook. <br />On GitHub, the HTML representation is unable to render, please try loading this page with nbviewer.org.</b></div><div class=\"sk-container\" hidden><div class=\"sk-item sk-dashed-wrapped\"><div class=\"sk-label-container\"><div class=\"sk-label sk-toggleable\"><input class=\"sk-toggleable__control sk-hidden--visually\" id=\"sk-estimator-id-13\" type=\"checkbox\" ><label for=\"sk-estimator-id-13\" class=\"sk-toggleable__label sk-toggleable__label-arrow\">GridSearchCV</label><div class=\"sk-toggleable__content\"><pre>GridSearchCV(cv=StratifiedKFold(n_splits=10, random_state=None, shuffle=False),\n",
       "             estimator=&lt;__main__.OneAgainstRestSVM object at 0x00000129DF014890&gt;,\n",
       "             n_jobs=-1,\n",
       "             param_grid={&#x27;C&#x27;: [0.03125, 0.0625, 0.125, 0.25, 0.5, 1, 2, 4, 8,\n",
       "                               16, 32, 64, 128, 256, 512, 1024, 2048, 4096,\n",
       "                               8192, 16384, 32768],\n",
       "                         &#x27;kernel&#x27;: [&#x27;linear&#x27;]},\n",
       "             scoring=&#x27;accuracy&#x27;)</pre></div></div></div><div class=\"sk-parallel\"><div class=\"sk-parallel-item\"><div class=\"sk-item\"><div class=\"sk-label-container\"><div class=\"sk-label sk-toggleable\"><input class=\"sk-toggleable__control sk-hidden--visually\" id=\"sk-estimator-id-14\" type=\"checkbox\" ><label for=\"sk-estimator-id-14\" class=\"sk-toggleable__label sk-toggleable__label-arrow\">estimator: OneAgainstRestSVM</label><div class=\"sk-toggleable__content\"><pre>&lt;__main__.OneAgainstRestSVM object at 0x00000129DF014890&gt;</pre></div></div></div><div class=\"sk-serial\"><div class=\"sk-item\"><div class=\"sk-estimator sk-toggleable\"><input class=\"sk-toggleable__control sk-hidden--visually\" id=\"sk-estimator-id-15\" type=\"checkbox\" ><label for=\"sk-estimator-id-15\" class=\"sk-toggleable__label sk-toggleable__label-arrow\">OneAgainstRestSVM</label><div class=\"sk-toggleable__content\"><pre>&lt;__main__.OneAgainstRestSVM object at 0x00000129DF014890&gt;</pre></div></div></div></div></div></div></div></div></div></div>"
      ],
      "text/plain": [
       "GridSearchCV(cv=StratifiedKFold(n_splits=10, random_state=None, shuffle=False),\n",
       "             estimator=<__main__.OneAgainstRestSVM object at 0x00000129DF014890>,\n",
       "             n_jobs=-1,\n",
       "             param_grid={'C': [0.03125, 0.0625, 0.125, 0.25, 0.5, 1, 2, 4, 8,\n",
       "                               16, 32, 64, 128, 256, 512, 1024, 2048, 4096,\n",
       "                               8192, 16384, 32768],\n",
       "                         'kernel': ['linear']},\n",
       "             scoring='accuracy')"
      ]
     },
     "execution_count": 20,
     "metadata": {},
     "output_type": "execute_result"
    }
   ],
   "source": [
    "svm = OneAgainstRestSVM()\n",
    "param_grid = {'kernel':['linear'],\n",
    "              'C':[2**i for i in range(-5, 16)]}\n",
    "\n",
    "skf = StratifiedKFold(n_splits=10)   # 특정 label 값을 가지는 데이터가 몰리는 것을 방지하기 위하여 Stratified KFold를 사용하였다.\n",
    "grid_search = GridSearchCV(svm, param_grid, cv=skf, n_jobs=-1, scoring = 'accuracy')\n",
    "grid_search.fit(X_train, y_train)"
   ]
  },
  {
   "cell_type": "code",
   "execution_count": 22,
   "id": "ee22a0e4",
   "metadata": {},
   "outputs": [
    {
     "name": "stdout",
     "output_type": "stream",
     "text": [
      "best parameter :  {'C': 4, 'kernel': 'linear'}\n",
      "best score :  0.9666666666666666\n"
     ]
    }
   ],
   "source": [
    "print('best parameter : ', grid_search.best_params_)\n",
    "print('best score : ', grid_search.best_score_)"
   ]
  },
  {
   "cell_type": "code",
   "execution_count": 11,
   "id": "a66084e1",
   "metadata": {},
   "outputs": [
    {
     "name": "stdout",
     "output_type": "stream",
     "text": [
      "accuracy :  0.8333333333333334\n"
     ]
    }
   ],
   "source": [
    "best_model = grid_search.best_estimator_\n",
    "best_model.fit(X_train, y_train)\n",
    "\n",
    "y_pred = best_model.predict(X_test)\n",
    "\n",
    "accuracy = accuracy_score(y_test, y_pred)\n",
    "print('accuracy : ', accuracy)"
   ]
  },
  {
   "cell_type": "markdown",
   "id": "0405379f",
   "metadata": {},
   "source": [
    "- linear SVM을 사용 시 test data에 대해서는 약 83%의 accuracy를 얻는다."
   ]
  },
  {
   "cell_type": "markdown",
   "id": "45746e63",
   "metadata": {},
   "source": [
    "#### Non-Linear SVM"
   ]
  },
  {
   "cell_type": "code",
   "execution_count": 17,
   "id": "a80c8797",
   "metadata": {},
   "outputs": [
    {
     "data": {
      "text/html": [
       "<style>#sk-container-id-4 {color: black;background-color: white;}#sk-container-id-4 pre{padding: 0;}#sk-container-id-4 div.sk-toggleable {background-color: white;}#sk-container-id-4 label.sk-toggleable__label {cursor: pointer;display: block;width: 100%;margin-bottom: 0;padding: 0.3em;box-sizing: border-box;text-align: center;}#sk-container-id-4 label.sk-toggleable__label-arrow:before {content: \"▸\";float: left;margin-right: 0.25em;color: #696969;}#sk-container-id-4 label.sk-toggleable__label-arrow:hover:before {color: black;}#sk-container-id-4 div.sk-estimator:hover label.sk-toggleable__label-arrow:before {color: black;}#sk-container-id-4 div.sk-toggleable__content {max-height: 0;max-width: 0;overflow: hidden;text-align: left;background-color: #f0f8ff;}#sk-container-id-4 div.sk-toggleable__content pre {margin: 0.2em;color: black;border-radius: 0.25em;background-color: #f0f8ff;}#sk-container-id-4 input.sk-toggleable__control:checked~div.sk-toggleable__content {max-height: 200px;max-width: 100%;overflow: auto;}#sk-container-id-4 input.sk-toggleable__control:checked~label.sk-toggleable__label-arrow:before {content: \"▾\";}#sk-container-id-4 div.sk-estimator input.sk-toggleable__control:checked~label.sk-toggleable__label {background-color: #d4ebff;}#sk-container-id-4 div.sk-label input.sk-toggleable__control:checked~label.sk-toggleable__label {background-color: #d4ebff;}#sk-container-id-4 input.sk-hidden--visually {border: 0;clip: rect(1px 1px 1px 1px);clip: rect(1px, 1px, 1px, 1px);height: 1px;margin: -1px;overflow: hidden;padding: 0;position: absolute;width: 1px;}#sk-container-id-4 div.sk-estimator {font-family: monospace;background-color: #f0f8ff;border: 1px dotted black;border-radius: 0.25em;box-sizing: border-box;margin-bottom: 0.5em;}#sk-container-id-4 div.sk-estimator:hover {background-color: #d4ebff;}#sk-container-id-4 div.sk-parallel-item::after {content: \"\";width: 100%;border-bottom: 1px solid gray;flex-grow: 1;}#sk-container-id-4 div.sk-label:hover label.sk-toggleable__label {background-color: #d4ebff;}#sk-container-id-4 div.sk-serial::before {content: \"\";position: absolute;border-left: 1px solid gray;box-sizing: border-box;top: 0;bottom: 0;left: 50%;z-index: 0;}#sk-container-id-4 div.sk-serial {display: flex;flex-direction: column;align-items: center;background-color: white;padding-right: 0.2em;padding-left: 0.2em;position: relative;}#sk-container-id-4 div.sk-item {position: relative;z-index: 1;}#sk-container-id-4 div.sk-parallel {display: flex;align-items: stretch;justify-content: center;background-color: white;position: relative;}#sk-container-id-4 div.sk-item::before, #sk-container-id-4 div.sk-parallel-item::before {content: \"\";position: absolute;border-left: 1px solid gray;box-sizing: border-box;top: 0;bottom: 0;left: 50%;z-index: -1;}#sk-container-id-4 div.sk-parallel-item {display: flex;flex-direction: column;z-index: 1;position: relative;background-color: white;}#sk-container-id-4 div.sk-parallel-item:first-child::after {align-self: flex-end;width: 50%;}#sk-container-id-4 div.sk-parallel-item:last-child::after {align-self: flex-start;width: 50%;}#sk-container-id-4 div.sk-parallel-item:only-child::after {width: 0;}#sk-container-id-4 div.sk-dashed-wrapped {border: 1px dashed gray;margin: 0 0.4em 0.5em 0.4em;box-sizing: border-box;padding-bottom: 0.4em;background-color: white;}#sk-container-id-4 div.sk-label label {font-family: monospace;font-weight: bold;display: inline-block;line-height: 1.2em;}#sk-container-id-4 div.sk-label-container {text-align: center;}#sk-container-id-4 div.sk-container {/* jupyter's `normalize.less` sets `[hidden] { display: none; }` but bootstrap.min.css set `[hidden] { display: none !important; }` so we also need the `!important` here to be able to override the default hidden behavior on the sphinx rendered scikit-learn.org. See: https://github.com/scikit-learn/scikit-learn/issues/21755 */display: inline-block !important;position: relative;}#sk-container-id-4 div.sk-text-repr-fallback {display: none;}</style><div id=\"sk-container-id-4\" class=\"sk-top-container\"><div class=\"sk-text-repr-fallback\"><pre>GridSearchCV(cv=StratifiedKFold(n_splits=10, random_state=None, shuffle=False),\n",
       "             estimator=&lt;__main__.OneAgainstRestSVM object at 0x00000129DEF6F290&gt;,\n",
       "             n_jobs=-1,\n",
       "             param_grid={&#x27;C&#x27;: [0.5, 1, 2, 4], &#x27;gamma&#x27;: [0.25, 0.5, 1, 2, 4, 8],\n",
       "                         &#x27;kernel&#x27;: [&#x27;poly&#x27;, &#x27;rbf&#x27;, &#x27;sigmoid&#x27;]},\n",
       "             scoring=&#x27;accuracy&#x27;)</pre><b>In a Jupyter environment, please rerun this cell to show the HTML representation or trust the notebook. <br />On GitHub, the HTML representation is unable to render, please try loading this page with nbviewer.org.</b></div><div class=\"sk-container\" hidden><div class=\"sk-item sk-dashed-wrapped\"><div class=\"sk-label-container\"><div class=\"sk-label sk-toggleable\"><input class=\"sk-toggleable__control sk-hidden--visually\" id=\"sk-estimator-id-10\" type=\"checkbox\" ><label for=\"sk-estimator-id-10\" class=\"sk-toggleable__label sk-toggleable__label-arrow\">GridSearchCV</label><div class=\"sk-toggleable__content\"><pre>GridSearchCV(cv=StratifiedKFold(n_splits=10, random_state=None, shuffle=False),\n",
       "             estimator=&lt;__main__.OneAgainstRestSVM object at 0x00000129DEF6F290&gt;,\n",
       "             n_jobs=-1,\n",
       "             param_grid={&#x27;C&#x27;: [0.5, 1, 2, 4], &#x27;gamma&#x27;: [0.25, 0.5, 1, 2, 4, 8],\n",
       "                         &#x27;kernel&#x27;: [&#x27;poly&#x27;, &#x27;rbf&#x27;, &#x27;sigmoid&#x27;]},\n",
       "             scoring=&#x27;accuracy&#x27;)</pre></div></div></div><div class=\"sk-parallel\"><div class=\"sk-parallel-item\"><div class=\"sk-item\"><div class=\"sk-label-container\"><div class=\"sk-label sk-toggleable\"><input class=\"sk-toggleable__control sk-hidden--visually\" id=\"sk-estimator-id-11\" type=\"checkbox\" ><label for=\"sk-estimator-id-11\" class=\"sk-toggleable__label sk-toggleable__label-arrow\">estimator: OneAgainstRestSVM</label><div class=\"sk-toggleable__content\"><pre>&lt;__main__.OneAgainstRestSVM object at 0x00000129DEF6F290&gt;</pre></div></div></div><div class=\"sk-serial\"><div class=\"sk-item\"><div class=\"sk-estimator sk-toggleable\"><input class=\"sk-toggleable__control sk-hidden--visually\" id=\"sk-estimator-id-12\" type=\"checkbox\" ><label for=\"sk-estimator-id-12\" class=\"sk-toggleable__label sk-toggleable__label-arrow\">OneAgainstRestSVM</label><div class=\"sk-toggleable__content\"><pre>&lt;__main__.OneAgainstRestSVM object at 0x00000129DEF6F290&gt;</pre></div></div></div></div></div></div></div></div></div></div>"
      ],
      "text/plain": [
       "GridSearchCV(cv=StratifiedKFold(n_splits=10, random_state=None, shuffle=False),\n",
       "             estimator=<__main__.OneAgainstRestSVM object at 0x00000129DEF6F290>,\n",
       "             n_jobs=-1,\n",
       "             param_grid={'C': [0.5, 1, 2, 4], 'gamma': [0.25, 0.5, 1, 2, 4, 8],\n",
       "                         'kernel': ['poly', 'rbf', 'sigmoid']},\n",
       "             scoring='accuracy')"
      ]
     },
     "execution_count": 17,
     "metadata": {},
     "output_type": "execute_result"
    }
   ],
   "source": [
    "svm = OneAgainstRestSVM()\n",
    "param_grid = {'kernel':['poly', 'rbf', 'sigmoid'],\n",
    "              'C':[2**i for i in range(-1, 3)],\n",
    "             'gamma':[2**i for i in range(-2, 4)]} \n",
    "\n",
    "skf = StratifiedKFold(n_splits=10)\n",
    "grid_search = GridSearchCV(svm, param_grid, cv=skf, n_jobs=-1, scoring = 'accuracy')\n",
    "grid_search.fit(X_train, y_train)"
   ]
  },
  {
   "cell_type": "markdown",
   "id": "3d0c28c0",
   "metadata": {},
   "source": [
    "- 좀 더 넓은 범위의 C값과 gamma 값에 대하여 gridsearch를 수행하고 싶었으나 메모리 상의 문제 때문인지 성공하지 못했음 :("
   ]
  },
  {
   "cell_type": "code",
   "execution_count": 18,
   "id": "bd23abe9",
   "metadata": {},
   "outputs": [
    {
     "name": "stdout",
     "output_type": "stream",
     "text": [
      "best parameter :  {'C': 1, 'gamma': 0.25, 'kernel': 'rbf'}\n",
      "best score :  0.975\n"
     ]
    }
   ],
   "source": [
    "print('best parameter : ', grid_search.best_params_)\n",
    "print('best score : ', grid_search.best_score_)"
   ]
  },
  {
   "cell_type": "markdown",
   "id": "2a01d0b4",
   "metadata": {},
   "source": [
    "### 최적 모델로 예측"
   ]
  },
  {
   "cell_type": "code",
   "execution_count": 14,
   "id": "dbc5d5b7",
   "metadata": {},
   "outputs": [
    {
     "name": "stdout",
     "output_type": "stream",
     "text": [
      "accuracy :  0.9666666666666667\n"
     ]
    }
   ],
   "source": [
    "best_model = grid_search.best_estimator_\n",
    "best_model.fit(X_train, y_train)\n",
    "\n",
    "y_pred = best_model.predict(X_test)\n",
    "\n",
    "accuracy = accuracy_score(y_test, y_pred)\n",
    "print('accuracy : ', accuracy)"
   ]
  },
  {
   "cell_type": "markdown",
   "id": "e0c2fd40",
   "metadata": {},
   "source": [
    "kernel은 rbf, C=1, gamma=0.25 인 non-linear SVM 모델을 사용하여 test data에 대해 분류를 수행한 결과 약 96.7%의 accuracy를 얻었다."
   ]
  }
 ],
 "metadata": {
  "kernelspec": {
   "display_name": "Python 3 (ipykernel)",
   "language": "python",
   "name": "python3"
  },
  "language_info": {
   "codemirror_mode": {
    "name": "ipython",
    "version": 3
   },
   "file_extension": ".py",
   "mimetype": "text/x-python",
   "name": "python",
   "nbconvert_exporter": "python",
   "pygments_lexer": "ipython3",
   "version": "3.11.3"
  }
 },
 "nbformat": 4,
 "nbformat_minor": 5
}
